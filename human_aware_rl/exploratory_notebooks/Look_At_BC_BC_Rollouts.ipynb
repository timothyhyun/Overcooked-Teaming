{
 "cells": [
  {
   "cell_type": "code",
   "execution_count": 1,
   "metadata": {},
   "outputs": [],
   "source": [
    "# %matplotlib inline\n",
    "# %matplotlib notebook\n",
    "import tqdm, copy\n",
    "import random, os\n",
    "import pandas as pd\n",
    "from tqdm import trange\n",
    "import matplotlib.pyplot as plt\n",
    "from collections import defaultdict\n",
    "from overcooked_ai_py.utils import save_pickle\n",
    "from human_aware_rl.utils import set_global_seed\n",
    "from human_aware_rl.human.process_dataframes import *\n",
    "# from human_aware_rl.static import *\n",
    "import pickle as pkl\n",
    "\n",
    "set_global_seed(1884)\n",
    "import ast\n",
    "import json\n",
    "\n",
    "from scipy import stats\n",
    "\n",
    "import matplotlib.pyplot as plt\n",
    "import matplotlib.cm as cm\n",
    "import cv2\n",
    "import os\n",
    "from ast import literal_eval\n",
    "from matplotlib.backends.backend_agg import FigureCanvasAgg as FigureCanvas\n"
   ]
  },
  {
   "cell_type": "markdown",
   "metadata": {},
   "source": [
    "# Helper Functions"
   ]
  },
  {
   "cell_type": "code",
   "execution_count": 2,
   "metadata": {},
   "outputs": [],
   "source": [
    "def import_pickle_data(filename):\n",
    "    \n",
    "\n",
    "    with open(filename,'rb') as file:\n",
    "        data = pkl.load(file)\n",
    "\n",
    "    return data\n",
    "\n",
    "\n"
   ]
  },
  {
   "cell_type": "code",
   "execution_count": 3,
   "metadata": {},
   "outputs": [],
   "source": [
    "def import_2019_data():\n",
    "    import pickle as pkl\n",
    "    hh_all_2019_file = '/Users/michellezhao/Documents/overcooked_research/human_aware_rl/human_aware_rl/static/human_data/cleaned/2019_hh_trials_all.pickle'\n",
    "\n",
    "    with open(hh_all_2019_file,'rb') as file:\n",
    "        humans_2019_file = pkl.load(file)\n",
    "\n",
    "    humans_2019_file.to_csv('humans_all_2019.csv')\n",
    "    old_trials = humans_2019_file\n",
    "    return old_trials\n",
    "\n",
    "def import_2020_data():\n",
    "    import pickle as pkl\n",
    "    hh_all_2020_file = '/Users/michellezhao/Documents/overcooked_research/human_aware_rl/human_aware_rl/static/human_data/cleaned/2020_hh_trials_all.pickle'\n",
    "\n",
    "    with open(hh_all_2020_file,'rb') as file:\n",
    "        humans_2020_file = pkl.load(file)\n",
    "\n",
    "    humans_2020_file.to_csv('humans_all_2020.csv')\n",
    "    new_trials = humans_2020_file\n",
    "    return new_trials\n",
    "\n",
    "\n",
    "\n",
    "\n"
   ]
  },
  {
   "cell_type": "code",
   "execution_count": 4,
   "metadata": {},
   "outputs": [],
   "source": [
    "def json_eval(s):\n",
    "    json_acceptable_string = s.replace(\"'\", \"\\\"\")\n",
    "    d = json.loads(json_acceptable_string)\n",
    "    return d"
   ]
  },
  {
   "cell_type": "markdown",
   "metadata": {},
   "source": [
    "# Take A Look At Rolled-Out Trajectories"
   ]
  },
  {
   "cell_type": "code",
   "execution_count": 5,
   "metadata": {},
   "outputs": [],
   "source": [
    "# filename = '../experiments/saved_eval_trajs/bc_train_and_bc_test_0.pkl'\n",
    "filename = '../experiments/saved_eval_trajs/bc_train_and_bc_test_1_ex2.pkl'\n",
    "train_test_rollout = import_pickle_data(filename)\n"
   ]
  },
  {
   "cell_type": "code",
   "execution_count": 54,
   "metadata": {},
   "outputs": [
    {
     "data": {
      "text/plain": [
       "dict_keys(['ep_observations', 'ep_actions', 'ep_rewards', 'ep_dones', 'ep_returns', 'ep_returns_sparse', 'ep_lengths', 'mdp_params', 'env_params'])"
      ]
     },
     "execution_count": 54,
     "metadata": {},
     "output_type": "execute_result"
    }
   ],
   "source": [
    "train_test_rollout.keys()"
   ]
  },
  {
   "cell_type": "code",
   "execution_count": 55,
   "metadata": {},
   "outputs": [],
   "source": [
    "ep_rewards = train_test_rollout['ep_rewards']\n",
    "ep_returns = train_test_rollout['ep_returns']\n",
    "ep_returns_sparse = train_test_rollout['ep_returns_sparse']\n",
    "ep_lengths = train_test_rollout['ep_lengths'] # all 400\n",
    "# ep_returns == ep_returns_sparse\n"
   ]
  },
  {
   "cell_type": "code",
   "execution_count": 56,
   "metadata": {},
   "outputs": [
    {
     "data": {
      "text/plain": [
       "(array([19.,  0., 24.,  0., 32.,  0., 12.,  0.,  8.,  5.]),\n",
       " array([  0.,  10.,  20.,  30.,  40.,  50.,  60.,  70.,  80.,  90., 100.]),\n",
       " <BarContainer object of 10 artists>)"
      ]
     },
     "execution_count": 56,
     "metadata": {},
     "output_type": "execute_result"
    },
    {
     "data": {
      "image/png": "[encoded data removed]",
      "text/plain": [
       "<Figure size 432x288 with 1 Axes>"
      ]
     },
     "metadata": {
      "needs_background": "light"
     },
     "output_type": "display_data"
    }
   ],
   "source": [
    "plt.hist(ep_returns_sparse)"
   ]
  },
  {
   "cell_type": "code",
   "execution_count": 57,
   "metadata": {},
   "outputs": [],
   "source": [
    "ep_observations = train_test_rollout['ep_observations']\n",
    "ep_actions = train_test_rollout['ep_actions']\n"
   ]
  },
  {
   "cell_type": "code",
   "execution_count": 58,
   "metadata": {},
   "outputs": [
    {
     "data": {
      "text/plain": [
       "array([[((0, 0), (0, 0)), ((0, 0), (0, 0)), ((0, 0), (0, 0)), ...,\n",
       "        ('interact', (0, 1)), ('interact', (1, 0)), ('interact', (0, 0))],\n",
       "       [((0, 0), (0, 0)), ((0, 0), (0, 0)), ((0, 0), (0, 0)), ...,\n",
       "        ('interact', (1, 0)), ((0, 0), (0, 0)), ((0, -1), 'interact')],\n",
       "       [((0, 0), (0, 0)), ((0, 0), (0, 0)), ((0, 0), (0, 0)), ...,\n",
       "        ('interact', 'interact'), ((1, 0), (1, 0)), ((0, 0), (0, 0))],\n",
       "       ...,\n",
       "       [((0, 0), (0, 0)), ((0, 0), (0, 0)), ((0, 0), (0, 0)), ...,\n",
       "        ('interact', (-1, 0)), ((1, 0), (0, 0)), ((0, 0), (0, 0))],\n",
       "       [((0, 0), (0, 0)), ((0, 0), 'interact'), ((0, 0), (0, 0)), ...,\n",
       "        ((1, 0), (1, 0)), ((0, 0), (0, 0)), ('interact', (0, 0))],\n",
       "       [((0, 0), (0, -1)), ((-1, 0), (0, -1)), ((1, 0), (0, -1)), ...,\n",
       "        ((1, 0), (0, 1)), ((0, -1), (0, 1)), ((1, 0), (-1, 0))]],\n",
       "      dtype=object)"
      ]
     },
     "execution_count": 58,
     "metadata": {},
     "output_type": "execute_result"
    }
   ],
   "source": [
    "ep_actions"
   ]
  },
  {
   "cell_type": "code",
   "execution_count": 59,
   "metadata": {},
   "outputs": [
    {
     "name": "stdout",
     "output_type": "stream",
     "text": [
      "{'players': [{'position': (3, 1), 'orientation': (0, -1), 'held_object': None}, {'position': (1, 2), 'orientation': (0, -1), 'held_object': None}], 'objects': [], 'order_list': None}\n",
      "{'players': [{'position': (3, 1), 'orientation': (0, -1), 'held_object': None}, {'position': (1, 2), 'orientation': (0, -1), 'held_object': None}], 'objects': [], 'order_list': None}\n",
      "{'players': [{'position': (3, 1), 'orientation': (0, -1), 'held_object': None}, {'position': (1, 2), 'orientation': (0, -1), 'held_object': None}], 'objects': [], 'order_list': None}\n",
      "{'players': [{'position': (3, 1), 'orientation': (0, -1), 'held_object': None}, {'position': (1, 2), 'orientation': (0, -1), 'held_object': None}], 'objects': [], 'order_list': None}\n",
      "{'players': [{'position': (3, 1), 'orientation': (0, -1), 'held_object': None}, {'position': (1, 2), 'orientation': (0, -1), 'held_object': None}], 'objects': [], 'order_list': None}\n",
      "{'players': [{'position': (3, 1), 'orientation': (0, -1), 'held_object': None}, {'position': (1, 1), 'orientation': (0, -1), 'held_object': None}], 'objects': [], 'order_list': None}\n",
      "{'players': [{'position': (3, 2), 'orientation': (0, 1), 'held_object': None}, {'position': (1, 1), 'orientation': (0, -1), 'held_object': None}], 'objects': [], 'order_list': None}\n",
      "{'players': [{'position': (3, 2), 'orientation': (0, 1), 'held_object': None}, {'position': (1, 1), 'orientation': (0, -1), 'held_object': None}], 'objects': [], 'order_list': None}\n",
      "{'players': [{'position': (3, 2), 'orientation': (0, 1), 'held_object': None}, {'position': (1, 1), 'orientation': (0, -1), 'held_object': None}], 'objects': [], 'order_list': None}\n",
      "{'players': [{'position': (3, 2), 'orientation': (0, 1), 'held_object': None}, {'position': (1, 1), 'orientation': (-1, 0), 'held_object': None}], 'objects': [], 'order_list': None}\n",
      "{'players': [{'position': (3, 1), 'orientation': (0, -1), 'held_object': None}, {'position': (1, 1), 'orientation': (-1, 0), 'held_object': None}], 'objects': [], 'order_list': None}\n",
      "{'players': [{'position': (3, 1), 'orientation': (0, -1), 'held_object': None}, {'position': (1, 1), 'orientation': (-1, 0), 'held_object': {'name': 'onion', 'position': (1, 1), 'state': None}}], 'objects': [], 'order_list': None}\n",
      "{'players': [{'position': (3, 1), 'orientation': (-1, 0), 'held_object': None}, {'position': (1, 1), 'orientation': (-1, 0), 'held_object': {'name': 'onion', 'position': (1, 1), 'state': None}}], 'objects': [], 'order_list': None}\n",
      "{'players': [{'position': (3, 1), 'orientation': (-1, 0), 'held_object': None}, {'position': (1, 1), 'orientation': (1, 0), 'held_object': {'name': 'onion', 'position': (1, 1), 'state': None}}], 'objects': [], 'order_list': None}\n",
      "{'players': [{'position': (3, 1), 'orientation': (-1, 0), 'held_object': None}, {'position': (1, 1), 'orientation': (1, 0), 'held_object': {'name': 'onion', 'position': (1, 1), 'state': None}}], 'objects': [], 'order_list': None}\n",
      "{'players': [{'position': (3, 1), 'orientation': (-1, 0), 'held_object': None}, {'position': (1, 1), 'orientation': (1, 0), 'held_object': {'name': 'onion', 'position': (1, 1), 'state': None}}], 'objects': [], 'order_list': None}\n",
      "{'players': [{'position': (3, 1), 'orientation': (-1, 0), 'held_object': None}, {'position': (1, 1), 'orientation': (1, 0), 'held_object': {'name': 'onion', 'position': (1, 1), 'state': None}}], 'objects': [], 'order_list': None}\n",
      "{'players': [{'position': (3, 1), 'orientation': (0, -1), 'held_object': None}, {'position': (1, 1), 'orientation': (1, 0), 'held_object': None}], 'objects': [{'name': 'onion', 'position': (2, 1), 'state': None}], 'order_list': None}\n",
      "{'players': [{'position': (3, 1), 'orientation': (0, -1), 'held_object': None}, {'position': (1, 1), 'orientation': (-1, 0), 'held_object': None}], 'objects': [{'name': 'onion', 'position': (2, 1), 'state': None}], 'order_list': None}\n",
      "{'players': [{'position': (3, 1), 'orientation': (0, -1), 'held_object': None}, {'position': (1, 1), 'orientation': (-1, 0), 'held_object': None}], 'objects': [{'name': 'onion', 'position': (2, 1), 'state': None}], 'order_list': None}\n",
      "{'players': [{'position': (3, 1), 'orientation': (0, -1), 'held_object': None}, {'position': (1, 1), 'orientation': (-1, 0), 'held_object': None}], 'objects': [{'name': 'onion', 'position': (2, 1), 'state': None}], 'order_list': None}\n",
      "{'players': [{'position': (3, 1), 'orientation': (0, -1), 'held_object': None}, {'position': (1, 1), 'orientation': (-1, 0), 'held_object': {'name': 'onion', 'position': (1, 1), 'state': None}}], 'objects': [{'name': 'onion', 'position': (2, 1), 'state': None}], 'order_list': None}\n",
      "{'players': [{'position': (3, 1), 'orientation': (-1, 0), 'held_object': None}, {'position': (1, 1), 'orientation': (1, 0), 'held_object': {'name': 'onion', 'position': (1, 1), 'state': None}}], 'objects': [{'name': 'onion', 'position': (2, 1), 'state': None}], 'order_list': None}\n",
      "{'players': [{'position': (3, 1), 'orientation': (-1, 0), 'held_object': {'name': 'onion', 'position': (3, 1), 'state': None}}, {'position': (1, 1), 'orientation': (1, 0), 'held_object': {'name': 'onion', 'position': (1, 1), 'state': None}}], 'objects': [], 'order_list': None}\n",
      "{'players': [{'position': (3, 1), 'orientation': (-1, 0), 'held_object': {'name': 'onion', 'position': (3, 1), 'state': None}}, {'position': (1, 1), 'orientation': (1, 0), 'held_object': {'name': 'onion', 'position': (1, 1), 'state': None}}], 'objects': [], 'order_list': None}\n",
      "{'players': [{'position': (3, 1), 'orientation': (-1, 0), 'held_object': {'name': 'onion', 'position': (3, 1), 'state': None}}, {'position': (1, 1), 'orientation': (1, 0), 'held_object': {'name': 'onion', 'position': (1, 1), 'state': None}}], 'objects': [], 'order_list': None}\n",
      "{'players': [{'position': (3, 1), 'orientation': (0, -1), 'held_object': {'name': 'onion', 'position': (3, 1), 'state': None}}, {'position': (1, 1), 'orientation': (1, 0), 'held_object': None}], 'objects': [{'name': 'onion', 'position': (2, 1), 'state': None}], 'order_list': None}\n",
      "{'players': [{'position': (3, 1), 'orientation': (0, -1), 'held_object': None}, {'position': (1, 1), 'orientation': (-1, 0), 'held_object': None}], 'objects': [{'name': 'onion', 'position': (2, 1), 'state': None}, {'name': 'soup', 'position': (3, 0), 'state': ('onion', 1, 0)}], 'order_list': None}\n",
      "{'players': [{'position': (3, 1), 'orientation': (0, -1), 'held_object': None}, {'position': (1, 1), 'orientation': (-1, 0), 'held_object': None}], 'objects': [{'name': 'onion', 'position': (2, 1), 'state': None}, {'name': 'soup', 'position': (3, 0), 'state': ('onion', 1, 0)}], 'order_list': None}\n",
      "{'players': [{'position': (3, 1), 'orientation': (0, -1), 'held_object': None}, {'position': (1, 1), 'orientation': (-1, 0), 'held_object': {'name': 'onion', 'position': (1, 1), 'state': None}}], 'objects': [{'name': 'onion', 'position': (2, 1), 'state': None}, {'name': 'soup', 'position': (3, 0), 'state': ('onion', 1, 0)}], 'order_list': None}\n",
      "{'players': [{'position': (3, 1), 'orientation': (-1, 0), 'held_object': None}, {'position': (1, 1), 'orientation': (1, 0), 'held_object': {'name': 'onion', 'position': (1, 1), 'state': None}}], 'objects': [{'name': 'onion', 'position': (2, 1), 'state': None}, {'name': 'soup', 'position': (3, 0), 'state': ('onion', 1, 0)}], 'order_list': None}\n",
      "{'players': [{'position': (3, 1), 'orientation': (-1, 0), 'held_object': None}, {'position': (1, 1), 'orientation': (-1, 0), 'held_object': {'name': 'onion', 'position': (1, 1), 'state': None}}], 'objects': [{'name': 'onion', 'position': (2, 1), 'state': None}, {'name': 'soup', 'position': (3, 0), 'state': ('onion', 1, 0)}], 'order_list': None}\n",
      "{'players': [{'position': (3, 1), 'orientation': (-1, 0), 'held_object': None}, {'position': (1, 1), 'orientation': (-1, 0), 'held_object': {'name': 'onion', 'position': (1, 1), 'state': None}}], 'objects': [{'name': 'onion', 'position': (2, 1), 'state': None}, {'name': 'soup', 'position': (3, 0), 'state': ('onion', 1, 0)}], 'order_list': None}\n",
      "{'players': [{'position': (3, 1), 'orientation': (-1, 0), 'held_object': None}, {'position': (1, 1), 'orientation': (-1, 0), 'held_object': {'name': 'onion', 'position': (1, 1), 'state': None}}], 'objects': [{'name': 'onion', 'position': (2, 1), 'state': None}, {'name': 'soup', 'position': (3, 0), 'state': ('onion', 1, 0)}], 'order_list': None}\n",
      "{'players': [{'position': (3, 1), 'orientation': (-1, 0), 'held_object': {'name': 'onion', 'position': (3, 1), 'state': None}}, {'position': (1, 1), 'orientation': (-1, 0), 'held_object': {'name': 'onion', 'position': (1, 1), 'state': None}}], 'objects': [{'name': 'soup', 'position': (3, 0), 'state': ('onion', 1, 0)}], 'order_list': None}\n",
      "{'players': [{'position': (3, 1), 'orientation': (0, -1), 'held_object': {'name': 'onion', 'position': (3, 1), 'state': None}}, {'position': (1, 1), 'orientation': (-1, 0), 'held_object': {'name': 'onion', 'position': (1, 1), 'state': None}}], 'objects': [{'name': 'soup', 'position': (3, 0), 'state': ('onion', 1, 0)}], 'order_list': None}\n",
      "{'players': [{'position': (3, 1), 'orientation': (0, -1), 'held_object': None}, {'position': (1, 1), 'orientation': (1, 0), 'held_object': {'name': 'onion', 'position': (1, 1), 'state': None}}], 'objects': [{'name': 'soup', 'position': (3, 0), 'state': ('onion', 2, 0)}], 'order_list': None}\n",
      "{'players': [{'position': (3, 1), 'orientation': (0, -1), 'held_object': None}, {'position': (1, 1), 'orientation': (1, 0), 'held_object': {'name': 'onion', 'position': (1, 1), 'state': None}}], 'objects': [{'name': 'soup', 'position': (3, 0), 'state': ('onion', 2, 0)}], 'order_list': None}\n",
      "{'players': [{'position': (3, 1), 'orientation': (0, -1), 'held_object': None}, {'position': (1, 1), 'orientation': (1, 0), 'held_object': {'name': 'onion', 'position': (1, 1), 'state': None}}], 'objects': [{'name': 'soup', 'position': (3, 0), 'state': ('onion', 2, 0)}], 'order_list': None}\n",
      "{'players': [{'position': (3, 1), 'orientation': (-1, 0), 'held_object': None}, {'position': (1, 1), 'orientation': (1, 0), 'held_object': None}], 'objects': [{'name': 'soup', 'position': (3, 0), 'state': ('onion', 2, 0)}, {'name': 'onion', 'position': (2, 1), 'state': None}], 'order_list': None}\n",
      "{'players': [{'position': (3, 1), 'orientation': (-1, 0), 'held_object': None}, {'position': (1, 1), 'orientation': (-1, 0), 'held_object': None}], 'objects': [{'name': 'soup', 'position': (3, 0), 'state': ('onion', 2, 0)}, {'name': 'onion', 'position': (2, 1), 'state': None}], 'order_list': None}\n",
      "{'players': [{'position': (3, 1), 'orientation': (-1, 0), 'held_object': {'name': 'onion', 'position': (3, 1), 'state': None}}, {'position': (1, 1), 'orientation': (-1, 0), 'held_object': {'name': 'onion', 'position': (1, 1), 'state': None}}], 'objects': [{'name': 'soup', 'position': (3, 0), 'state': ('onion', 2, 0)}], 'order_list': None}\n",
      "{'players': [{'position': (3, 1), 'orientation': (-1, 0), 'held_object': {'name': 'onion', 'position': (3, 1), 'state': None}}, {'position': (1, 1), 'orientation': (1, 0), 'held_object': {'name': 'onion', 'position': (1, 1), 'state': None}}], 'objects': [{'name': 'soup', 'position': (3, 0), 'state': ('onion', 2, 0)}], 'order_list': None}\n",
      "{'players': [{'position': (3, 1), 'orientation': (0, -1), 'held_object': {'name': 'onion', 'position': (3, 1), 'state': None}}, {'position': (1, 1), 'orientation': (1, 0), 'held_object': {'name': 'onion', 'position': (1, 1), 'state': None}}], 'objects': [{'name': 'soup', 'position': (3, 0), 'state': ('onion', 2, 0)}], 'order_list': None}\n",
      "{'players': [{'position': (3, 1), 'orientation': (0, -1), 'held_object': None}, {'position': (1, 1), 'orientation': (1, 0), 'held_object': {'name': 'onion', 'position': (1, 1), 'state': None}}], 'objects': [{'name': 'soup', 'position': (3, 0), 'state': ('onion', 3, 1)}], 'order_list': None}\n",
      "{'players': [{'position': (3, 1), 'orientation': (-1, 0), 'held_object': None}, {'position': (1, 1), 'orientation': (1, 0), 'held_object': None}], 'objects': [{'name': 'soup', 'position': (3, 0), 'state': ('onion', 3, 2)}, {'name': 'onion', 'position': (2, 1), 'state': None}], 'order_list': None}\n",
      "{'players': [{'position': (3, 1), 'orientation': (-1, 0), 'held_object': None}, {'position': (1, 1), 'orientation': (-1, 0), 'held_object': None}], 'objects': [{'name': 'soup', 'position': (3, 0), 'state': ('onion', 3, 3)}, {'name': 'onion', 'position': (2, 1), 'state': None}], 'order_list': None}\n",
      "{'players': [{'position': (3, 1), 'orientation': (-1, 0), 'held_object': {'name': 'onion', 'position': (3, 1), 'state': None}}, {'position': (1, 1), 'orientation': (-1, 0), 'held_object': {'name': 'onion', 'position': (1, 1), 'state': None}}], 'objects': [{'name': 'soup', 'position': (3, 0), 'state': ('onion', 3, 4)}], 'order_list': None}\n",
      "{'players': [{'position': (3, 1), 'orientation': (-1, 0), 'held_object': {'name': 'onion', 'position': (3, 1), 'state': None}}, {'position': (1, 1), 'orientation': (1, 0), 'held_object': {'name': 'onion', 'position': (1, 1), 'state': None}}], 'objects': [{'name': 'soup', 'position': (3, 0), 'state': ('onion', 3, 5)}], 'order_list': None}\n",
      "{'players': [{'position': (3, 1), 'orientation': (1, 0), 'held_object': {'name': 'onion', 'position': (3, 1), 'state': None}}, {'position': (1, 1), 'orientation': (1, 0), 'held_object': {'name': 'onion', 'position': (1, 1), 'state': None}}], 'objects': [{'name': 'soup', 'position': (3, 0), 'state': ('onion', 3, 6)}], 'order_list': None}\n",
      "{'players': [{'position': (3, 1), 'orientation': (1, 0), 'held_object': None}, {'position': (1, 1), 'orientation': (1, 0), 'held_object': {'name': 'onion', 'position': (1, 1), 'state': None}}], 'objects': [{'name': 'soup', 'position': (3, 0), 'state': ('onion', 3, 7)}, {'name': 'soup', 'position': (4, 1), 'state': ('onion', 1, 0)}], 'order_list': None}\n",
      "{'players': [{'position': (3, 1), 'orientation': (1, 0), 'held_object': None}, {'position': (1, 1), 'orientation': (1, 0), 'held_object': {'name': 'onion', 'position': (1, 1), 'state': None}}], 'objects': [{'name': 'soup', 'position': (3, 0), 'state': ('onion', 3, 8)}, {'name': 'soup', 'position': (4, 1), 'state': ('onion', 1, 0)}], 'order_list': None}\n",
      "{'players': [{'position': (3, 1), 'orientation': (-1, 0), 'held_object': None}, {'position': (1, 1), 'orientation': (1, 0), 'held_object': None}], 'objects': [{'name': 'soup', 'position': (3, 0), 'state': ('onion', 3, 9)}, {'name': 'soup', 'position': (4, 1), 'state': ('onion', 1, 0)}, {'name': 'onion', 'position': (2, 1), 'state': None}], 'order_list': None}\n",
      "{'players': [{'position': (3, 1), 'orientation': (-1, 0), 'held_object': None}, {'position': (1, 2), 'orientation': (0, 1), 'held_object': None}], 'objects': [{'name': 'soup', 'position': (3, 0), 'state': ('onion', 3, 10)}, {'name': 'soup', 'position': (4, 1), 'state': ('onion', 1, 0)}, {'name': 'onion', 'position': (2, 1), 'state': None}], 'order_list': None}\n",
      "{'players': [{'position': (3, 1), 'orientation': (-1, 0), 'held_object': None}, {'position': (1, 3), 'orientation': (0, 1), 'held_object': None}], 'objects': [{'name': 'soup', 'position': (3, 0), 'state': ('onion', 3, 11)}, {'name': 'soup', 'position': (4, 1), 'state': ('onion', 1, 0)}, {'name': 'onion', 'position': (2, 1), 'state': None}], 'order_list': None}\n",
      "{'players': [{'position': (3, 2), 'orientation': (0, 1), 'held_object': None}, {'position': (1, 3), 'orientation': (-1, 0), 'held_object': None}], 'objects': [{'name': 'soup', 'position': (3, 0), 'state': ('onion', 3, 12)}, {'name': 'soup', 'position': (4, 1), 'state': ('onion', 1, 0)}, {'name': 'onion', 'position': (2, 1), 'state': None}], 'order_list': None}\n",
      "{'players': [{'position': (3, 2), 'orientation': (0, 1), 'held_object': None}, {'position': (1, 3), 'orientation': (-1, 0), 'held_object': {'name': 'dish', 'position': (1, 3), 'state': None}}], 'objects': [{'name': 'soup', 'position': (3, 0), 'state': ('onion', 3, 13)}, {'name': 'soup', 'position': (4, 1), 'state': ('onion', 1, 0)}, {'name': 'onion', 'position': (2, 1), 'state': None}], 'order_list': None}\n",
      "{'players': [{'position': (3, 3), 'orientation': (0, 1), 'held_object': None}, {'position': (1, 3), 'orientation': (-1, 0), 'held_object': {'name': 'dish', 'position': (1, 3), 'state': None}}], 'objects': [{'name': 'soup', 'position': (3, 0), 'state': ('onion', 3, 14)}, {'name': 'soup', 'position': (4, 1), 'state': ('onion', 1, 0)}, {'name': 'onion', 'position': (2, 1), 'state': None}], 'order_list': None}\n",
      "{'players': [{'position': (3, 3), 'orientation': (0, 1), 'held_object': None}, {'position': (1, 3), 'orientation': (-1, 0), 'held_object': {'name': 'dish', 'position': (1, 3), 'state': None}}], 'objects': [{'name': 'soup', 'position': (3, 0), 'state': ('onion', 3, 15)}, {'name': 'soup', 'position': (4, 1), 'state': ('onion', 1, 0)}, {'name': 'onion', 'position': (2, 1), 'state': None}], 'order_list': None}\n",
      "{'players': [{'position': (3, 3), 'orientation': (0, 1), 'held_object': None}, {'position': (1, 2), 'orientation': (0, -1), 'held_object': {'name': 'dish', 'position': (1, 2), 'state': None}}], 'objects': [{'name': 'soup', 'position': (3, 0), 'state': ('onion', 3, 16)}, {'name': 'soup', 'position': (4, 1), 'state': ('onion', 1, 0)}, {'name': 'onion', 'position': (2, 1), 'state': None}], 'order_list': None}\n",
      "{'players': [{'position': (3, 3), 'orientation': (0, 1), 'held_object': None}, {'position': (1, 1), 'orientation': (0, -1), 'held_object': {'name': 'dish', 'position': (1, 1), 'state': None}}], 'objects': [{'name': 'soup', 'position': (3, 0), 'state': ('onion', 3, 17)}, {'name': 'soup', 'position': (4, 1), 'state': ('onion', 1, 0)}, {'name': 'onion', 'position': (2, 1), 'state': None}], 'order_list': None}\n",
      "{'players': [{'position': (3, 3), 'orientation': (0, 1), 'held_object': None}, {'position': (1, 1), 'orientation': (0, -1), 'held_object': {'name': 'dish', 'position': (1, 1), 'state': None}}], 'objects': [{'name': 'soup', 'position': (3, 0), 'state': ('onion', 3, 18)}, {'name': 'soup', 'position': (4, 1), 'state': ('onion', 1, 0)}, {'name': 'onion', 'position': (2, 1), 'state': None}], 'order_list': None}\n",
      "{'players': [{'position': (3, 3), 'orientation': (-1, 0), 'held_object': None}, {'position': (1, 1), 'orientation': (0, -1), 'held_object': {'name': 'dish', 'position': (1, 1), 'state': None}}], 'objects': [{'name': 'soup', 'position': (3, 0), 'state': ('onion', 3, 19)}, {'name': 'soup', 'position': (4, 1), 'state': ('onion', 1, 0)}, {'name': 'onion', 'position': (2, 1), 'state': None}], 'order_list': None}\n",
      "{'players': [{'position': (3, 3), 'orientation': (-1, 0), 'held_object': None}, {'position': (1, 1), 'orientation': (0, -1), 'held_object': {'name': 'dish', 'position': (1, 1), 'state': None}}], 'objects': [{'name': 'soup', 'position': (3, 0), 'state': ('onion', 3, 20)}, {'name': 'soup', 'position': (4, 1), 'state': ('onion', 1, 0)}, {'name': 'onion', 'position': (2, 1), 'state': None}], 'order_list': None}\n",
      "{'players': [{'position': (3, 3), 'orientation': (-1, 0), 'held_object': None}, {'position': (1, 1), 'orientation': (1, 0), 'held_object': {'name': 'dish', 'position': (1, 1), 'state': None}}], 'objects': [{'name': 'soup', 'position': (3, 0), 'state': ('onion', 3, 20)}, {'name': 'soup', 'position': (4, 1), 'state': ('onion', 1, 0)}, {'name': 'onion', 'position': (2, 1), 'state': None}], 'order_list': None}\n",
      "{'players': [{'position': (3, 3), 'orientation': (-1, 0), 'held_object': None}, {'position': (1, 1), 'orientation': (1, 0), 'held_object': {'name': 'dish', 'position': (1, 1), 'state': None}}], 'objects': [{'name': 'soup', 'position': (3, 0), 'state': ('onion', 3, 20)}, {'name': 'soup', 'position': (4, 1), 'state': ('onion', 1, 0)}, {'name': 'onion', 'position': (2, 1), 'state': None}], 'order_list': None}\n",
      "{'players': [{'position': (3, 2), 'orientation': (0, -1), 'held_object': None}, {'position': (1, 1), 'orientation': (1, 0), 'held_object': {'name': 'dish', 'position': (1, 1), 'state': None}}], 'objects': [{'name': 'soup', 'position': (3, 0), 'state': ('onion', 3, 20)}, {'name': 'soup', 'position': (4, 1), 'state': ('onion', 1, 0)}, {'name': 'onion', 'position': (2, 1), 'state': None}], 'order_list': None}\n",
      "{'players': [{'position': (3, 2), 'orientation': (0, -1), 'held_object': None}, {'position': (1, 1), 'orientation': (1, 0), 'held_object': {'name': 'dish', 'position': (1, 1), 'state': None}}], 'objects': [{'name': 'soup', 'position': (3, 0), 'state': ('onion', 3, 20)}, {'name': 'soup', 'position': (4, 1), 'state': ('onion', 1, 0)}, {'name': 'onion', 'position': (2, 1), 'state': None}], 'order_list': None}\n",
      "{'players': [{'position': (3, 1), 'orientation': (0, -1), 'held_object': None}, {'position': (1, 2), 'orientation': (0, 1), 'held_object': {'name': 'dish', 'position': (1, 2), 'state': None}}], 'objects': [{'name': 'soup', 'position': (3, 0), 'state': ('onion', 3, 20)}, {'name': 'soup', 'position': (4, 1), 'state': ('onion', 1, 0)}, {'name': 'onion', 'position': (2, 1), 'state': None}], 'order_list': None}\n",
      "{'players': [{'position': (3, 1), 'orientation': (0, -1), 'held_object': None}, {'position': (1, 3), 'orientation': (0, 1), 'held_object': {'name': 'dish', 'position': (1, 3), 'state': None}}], 'objects': [{'name': 'soup', 'position': (3, 0), 'state': ('onion', 3, 20)}, {'name': 'soup', 'position': (4, 1), 'state': ('onion', 1, 0)}, {'name': 'onion', 'position': (2, 1), 'state': None}], 'order_list': None}\n",
      "{'players': [{'position': (3, 1), 'orientation': (0, -1), 'held_object': None}, {'position': (1, 3), 'orientation': (0, 1), 'held_object': {'name': 'dish', 'position': (1, 3), 'state': None}}], 'objects': [{'name': 'soup', 'position': (3, 0), 'state': ('onion', 3, 20)}, {'name': 'soup', 'position': (4, 1), 'state': ('onion', 1, 0)}, {'name': 'onion', 'position': (2, 1), 'state': None}], 'order_list': None}\n",
      "{'players': [{'position': (3, 1), 'orientation': (0, -1), 'held_object': None}, {'position': (1, 3), 'orientation': (1, 0), 'held_object': {'name': 'dish', 'position': (1, 3), 'state': None}}], 'objects': [{'name': 'soup', 'position': (3, 0), 'state': ('onion', 3, 20)}, {'name': 'soup', 'position': (4, 1), 'state': ('onion', 1, 0)}, {'name': 'onion', 'position': (2, 1), 'state': None}], 'order_list': None}\n",
      "{'players': [{'position': (3, 1), 'orientation': (-1, 0), 'held_object': None}, {'position': (1, 3), 'orientation': (1, 0), 'held_object': {'name': 'dish', 'position': (1, 3), 'state': None}}], 'objects': [{'name': 'soup', 'position': (3, 0), 'state': ('onion', 3, 20)}, {'name': 'soup', 'position': (4, 1), 'state': ('onion', 1, 0)}, {'name': 'onion', 'position': (2, 1), 'state': None}], 'order_list': None}\n",
      "{'players': [{'position': (3, 1), 'orientation': (-1, 0), 'held_object': None}, {'position': (1, 3), 'orientation': (1, 0), 'held_object': {'name': 'dish', 'position': (1, 3), 'state': None}}], 'objects': [{'name': 'soup', 'position': (3, 0), 'state': ('onion', 3, 20)}, {'name': 'soup', 'position': (4, 1), 'state': ('onion', 1, 0)}, {'name': 'onion', 'position': (2, 1), 'state': None}], 'order_list': None}\n",
      "{'players': [{'position': (3, 1), 'orientation': (-1, 0), 'held_object': None}, {'position': (1, 3), 'orientation': (1, 0), 'held_object': None}], 'objects': [{'name': 'soup', 'position': (3, 0), 'state': ('onion', 3, 20)}, {'name': 'soup', 'position': (4, 1), 'state': ('onion', 1, 0)}, {'name': 'onion', 'position': (2, 1), 'state': None}, {'name': 'dish', 'position': (2, 3), 'state': None}], 'order_list': None}\n",
      "{'players': [{'position': (3, 2), 'orientation': (0, 1), 'held_object': None}, {'position': (1, 3), 'orientation': (-1, 0), 'held_object': None}], 'objects': [{'name': 'soup', 'position': (3, 0), 'state': ('onion', 3, 20)}, {'name': 'soup', 'position': (4, 1), 'state': ('onion', 1, 0)}, {'name': 'onion', 'position': (2, 1), 'state': None}, {'name': 'dish', 'position': (2, 3), 'state': None}], 'order_list': None}\n",
      "{'players': [{'position': (3, 2), 'orientation': (0, 1), 'held_object': None}, {'position': (1, 3), 'orientation': (-1, 0), 'held_object': None}], 'objects': [{'name': 'soup', 'position': (3, 0), 'state': ('onion', 3, 20)}, {'name': 'soup', 'position': (4, 1), 'state': ('onion', 1, 0)}, {'name': 'onion', 'position': (2, 1), 'state': None}, {'name': 'dish', 'position': (2, 3), 'state': None}], 'order_list': None}\n",
      "{'players': [{'position': (3, 2), 'orientation': (-1, 0), 'held_object': None}, {'position': (1, 3), 'orientation': (-1, 0), 'held_object': None}], 'objects': [{'name': 'soup', 'position': (3, 0), 'state': ('onion', 3, 20)}, {'name': 'soup', 'position': (4, 1), 'state': ('onion', 1, 0)}, {'name': 'onion', 'position': (2, 1), 'state': None}, {'name': 'dish', 'position': (2, 3), 'state': None}], 'order_list': None}\n",
      "{'players': [{'position': (3, 3), 'orientation': (0, 1), 'held_object': None}, {'position': (1, 3), 'orientation': (-1, 0), 'held_object': {'name': 'dish', 'position': (1, 3), 'state': None}}], 'objects': [{'name': 'soup', 'position': (3, 0), 'state': ('onion', 3, 20)}, {'name': 'soup', 'position': (4, 1), 'state': ('onion', 1, 0)}, {'name': 'onion', 'position': (2, 1), 'state': None}, {'name': 'dish', 'position': (2, 3), 'state': None}], 'order_list': None}\n",
      "{'players': [{'position': (3, 3), 'orientation': (0, 1), 'held_object': None}, {'position': (1, 3), 'orientation': (1, 0), 'held_object': {'name': 'dish', 'position': (1, 3), 'state': None}}], 'objects': [{'name': 'soup', 'position': (3, 0), 'state': ('onion', 3, 20)}, {'name': 'soup', 'position': (4, 1), 'state': ('onion', 1, 0)}, {'name': 'onion', 'position': (2, 1), 'state': None}, {'name': 'dish', 'position': (2, 3), 'state': None}], 'order_list': None}\n",
      "{'players': [{'position': (3, 3), 'orientation': (0, 1), 'held_object': None}, {'position': (1, 3), 'orientation': (1, 0), 'held_object': {'name': 'dish', 'position': (1, 3), 'state': None}}], 'objects': [{'name': 'soup', 'position': (3, 0), 'state': ('onion', 3, 20)}, {'name': 'soup', 'position': (4, 1), 'state': ('onion', 1, 0)}, {'name': 'onion', 'position': (2, 1), 'state': None}, {'name': 'dish', 'position': (2, 3), 'state': None}], 'order_list': None}\n",
      "{'players': [{'position': (3, 3), 'orientation': (0, 1), 'held_object': None}, {'position': (1, 3), 'orientation': (1, 0), 'held_object': {'name': 'dish', 'position': (1, 3), 'state': None}}], 'objects': [{'name': 'soup', 'position': (3, 0), 'state': ('onion', 3, 20)}, {'name': 'soup', 'position': (4, 1), 'state': ('onion', 1, 0)}, {'name': 'onion', 'position': (2, 1), 'state': None}, {'name': 'dish', 'position': (2, 3), 'state': None}], 'order_list': None}\n",
      "{'players': [{'position': (3, 3), 'orientation': (-1, 0), 'held_object': None}, {'position': (1, 3), 'orientation': (1, 0), 'held_object': {'name': 'dish', 'position': (1, 3), 'state': None}}], 'objects': [{'name': 'soup', 'position': (3, 0), 'state': ('onion', 3, 20)}, {'name': 'soup', 'position': (4, 1), 'state': ('onion', 1, 0)}, {'name': 'onion', 'position': (2, 1), 'state': None}, {'name': 'dish', 'position': (2, 3), 'state': None}], 'order_list': None}\n",
      "{'players': [{'position': (3, 3), 'orientation': (-1, 0), 'held_object': {'name': 'dish', 'position': (3, 3), 'state': None}}, {'position': (1, 2), 'orientation': (0, -1), 'held_object': {'name': 'dish', 'position': (1, 2), 'state': None}}], 'objects': [{'name': 'soup', 'position': (3, 0), 'state': ('onion', 3, 20)}, {'name': 'soup', 'position': (4, 1), 'state': ('onion', 1, 0)}, {'name': 'onion', 'position': (2, 1), 'state': None}], 'order_list': None}\n",
      "{'players': [{'position': (3, 2), 'orientation': (0, -1), 'held_object': {'name': 'dish', 'position': (3, 2), 'state': None}}, {'position': (1, 2), 'orientation': (1, 0), 'held_object': {'name': 'dish', 'position': (1, 2), 'state': None}}], 'objects': [{'name': 'soup', 'position': (3, 0), 'state': ('onion', 3, 20)}, {'name': 'soup', 'position': (4, 1), 'state': ('onion', 1, 0)}, {'name': 'onion', 'position': (2, 1), 'state': None}], 'order_list': None}\n",
      "{'players': [{'position': (3, 1), 'orientation': (0, -1), 'held_object': {'name': 'dish', 'position': (3, 1), 'state': None}}, {'position': (1, 2), 'orientation': (1, 0), 'held_object': {'name': 'dish', 'position': (1, 2), 'state': None}}], 'objects': [{'name': 'soup', 'position': (3, 0), 'state': ('onion', 3, 20)}, {'name': 'soup', 'position': (4, 1), 'state': ('onion', 1, 0)}, {'name': 'onion', 'position': (2, 1), 'state': None}], 'order_list': None}\n",
      "{'players': [{'position': (3, 1), 'orientation': (1, 0), 'held_object': {'name': 'dish', 'position': (3, 1), 'state': None}}, {'position': (1, 2), 'orientation': (1, 0), 'held_object': {'name': 'dish', 'position': (1, 2), 'state': None}}], 'objects': [{'name': 'soup', 'position': (3, 0), 'state': ('onion', 3, 20)}, {'name': 'soup', 'position': (4, 1), 'state': ('onion', 1, 0)}, {'name': 'onion', 'position': (2, 1), 'state': None}], 'order_list': None}\n",
      "{'players': [{'position': (3, 1), 'orientation': (1, 0), 'held_object': {'name': 'dish', 'position': (3, 1), 'state': None}}, {'position': (1, 2), 'orientation': (1, 0), 'held_object': {'name': 'dish', 'position': (1, 2), 'state': None}}], 'objects': [{'name': 'soup', 'position': (3, 0), 'state': ('onion', 3, 20)}, {'name': 'soup', 'position': (4, 1), 'state': ('onion', 1, 0)}, {'name': 'onion', 'position': (2, 1), 'state': None}], 'order_list': None}\n",
      "{'players': [{'position': (3, 1), 'orientation': (1, 0), 'held_object': {'name': 'dish', 'position': (3, 1), 'state': None}}, {'position': (1, 1), 'orientation': (0, -1), 'held_object': {'name': 'dish', 'position': (1, 1), 'state': None}}], 'objects': [{'name': 'soup', 'position': (3, 0), 'state': ('onion', 3, 20)}, {'name': 'soup', 'position': (4, 1), 'state': ('onion', 1, 0)}, {'name': 'onion', 'position': (2, 1), 'state': None}], 'order_list': None}\n",
      "{'players': [{'position': (3, 1), 'orientation': (1, 0), 'held_object': {'name': 'dish', 'position': (3, 1), 'state': None}}, {'position': (1, 1), 'orientation': (0, -1), 'held_object': {'name': 'dish', 'position': (1, 1), 'state': None}}], 'objects': [{'name': 'soup', 'position': (3, 0), 'state': ('onion', 3, 20)}, {'name': 'soup', 'position': (4, 1), 'state': ('onion', 1, 0)}, {'name': 'onion', 'position': (2, 1), 'state': None}], 'order_list': None}\n",
      "{'players': [{'position': (3, 2), 'orientation': (0, 1), 'held_object': {'name': 'dish', 'position': (3, 2), 'state': None}}, {'position': (1, 1), 'orientation': (1, 0), 'held_object': {'name': 'dish', 'position': (1, 1), 'state': None}}], 'objects': [{'name': 'soup', 'position': (3, 0), 'state': ('onion', 3, 20)}, {'name': 'soup', 'position': (4, 1), 'state': ('onion', 1, 0)}, {'name': 'onion', 'position': (2, 1), 'state': None}], 'order_list': None}\n",
      "{'players': [{'position': (3, 3), 'orientation': (0, 1), 'held_object': {'name': 'dish', 'position': (3, 3), 'state': None}}, {'position': (1, 1), 'orientation': (1, 0), 'held_object': {'name': 'dish', 'position': (1, 1), 'state': None}}], 'objects': [{'name': 'soup', 'position': (3, 0), 'state': ('onion', 3, 20)}, {'name': 'soup', 'position': (4, 1), 'state': ('onion', 1, 0)}, {'name': 'onion', 'position': (2, 1), 'state': None}], 'order_list': None}\n",
      "{'players': [{'position': (3, 3), 'orientation': (0, 1), 'held_object': {'name': 'dish', 'position': (3, 3), 'state': None}}, {'position': (1, 1), 'orientation': (1, 0), 'held_object': {'name': 'dish', 'position': (1, 1), 'state': None}}], 'objects': [{'name': 'soup', 'position': (3, 0), 'state': ('onion', 3, 20)}, {'name': 'soup', 'position': (4, 1), 'state': ('onion', 1, 0)}, {'name': 'onion', 'position': (2, 1), 'state': None}], 'order_list': None}\n",
      "{'players': [{'position': (3, 2), 'orientation': (0, -1), 'held_object': {'name': 'dish', 'position': (3, 2), 'state': None}}, {'position': (1, 1), 'orientation': (1, 0), 'held_object': {'name': 'dish', 'position': (1, 1), 'state': None}}], 'objects': [{'name': 'soup', 'position': (3, 0), 'state': ('onion', 3, 20)}, {'name': 'soup', 'position': (4, 1), 'state': ('onion', 1, 0)}, {'name': 'onion', 'position': (2, 1), 'state': None}], 'order_list': None}\n",
      "{'players': [{'position': (3, 1), 'orientation': (0, -1), 'held_object': {'name': 'dish', 'position': (3, 1), 'state': None}}, {'position': (1, 2), 'orientation': (0, 1), 'held_object': {'name': 'dish', 'position': (1, 2), 'state': None}}], 'objects': [{'name': 'soup', 'position': (3, 0), 'state': ('onion', 3, 20)}, {'name': 'soup', 'position': (4, 1), 'state': ('onion', 1, 0)}, {'name': 'onion', 'position': (2, 1), 'state': None}], 'order_list': None}\n",
      "{'players': [{'position': (3, 1), 'orientation': (0, -1), 'held_object': {'name': 'soup', 'position': (3, 1), 'state': ('onion', 3, 20)}}, {'position': (1, 1), 'orientation': (0, -1), 'held_object': {'name': 'dish', 'position': (1, 1), 'state': None}}], 'objects': [{'name': 'soup', 'position': (4, 1), 'state': ('onion', 1, 0)}, {'name': 'onion', 'position': (2, 1), 'state': None}], 'order_list': None}\n",
      "{'players': [{'position': (3, 1), 'orientation': (0, -1), 'held_object': {'name': 'soup', 'position': (3, 1), 'state': ('onion', 3, 20)}}, {'position': (1, 1), 'orientation': (0, -1), 'held_object': None}], 'objects': [{'name': 'soup', 'position': (4, 1), 'state': ('onion', 1, 0)}, {'name': 'onion', 'position': (2, 1), 'state': None}, {'name': 'dish', 'position': (1, 0), 'state': None}], 'order_list': None}\n",
      "{'players': [{'position': (3, 1), 'orientation': (0, -1), 'held_object': {'name': 'soup', 'position': (3, 1), 'state': ('onion', 3, 20)}}, {'position': (1, 1), 'orientation': (-1, 0), 'held_object': None}], 'objects': [{'name': 'soup', 'position': (4, 1), 'state': ('onion', 1, 0)}, {'name': 'onion', 'position': (2, 1), 'state': None}, {'name': 'dish', 'position': (1, 0), 'state': None}], 'order_list': None}\n",
      "{'players': [{'position': (3, 2), 'orientation': (0, 1), 'held_object': {'name': 'soup', 'position': (3, 2), 'state': ('onion', 3, 20)}}, {'position': (1, 1), 'orientation': (-1, 0), 'held_object': {'name': 'onion', 'position': (1, 1), 'state': None}}], 'objects': [{'name': 'soup', 'position': (4, 1), 'state': ('onion', 1, 0)}, {'name': 'onion', 'position': (2, 1), 'state': None}, {'name': 'dish', 'position': (1, 0), 'state': None}], 'order_list': None}\n",
      "{'players': [{'position': (3, 3), 'orientation': (0, 1), 'held_object': {'name': 'soup', 'position': (3, 3), 'state': ('onion', 3, 20)}}, {'position': (1, 1), 'orientation': (-1, 0), 'held_object': {'name': 'onion', 'position': (1, 1), 'state': None}}], 'objects': [{'name': 'soup', 'position': (4, 1), 'state': ('onion', 1, 0)}, {'name': 'onion', 'position': (2, 1), 'state': None}, {'name': 'dish', 'position': (1, 0), 'state': None}], 'order_list': None}\n"
     ]
    }
   ],
   "source": [
    "episode_num = 0\n",
    "timestep_t = 0\n",
    "# for timestep_t in range(len(ep_observations[episode_num])):\n",
    "for timestep_t in range(100):\n",
    "    print(ep_observations[episode_num][timestep_t].to_dict())\n",
    "#     print('players', ep_observations[episode_num][timestep_t].players)\n",
    "#     print('observations', ep_observations[episode_num][timestep_t].objects)\n",
    "#     print('order list', ep_observations[episode_num][timestep_t].order_list)\n",
    "\n",
    "# self.players = tuple(players)\n",
    "# self.objects = objects\n",
    "# self.order_list = order_list\n",
    "\n"
   ]
  },
  {
   "cell_type": "markdown",
   "metadata": {},
   "source": [
    "# Define Functions For Plotting"
   ]
  },
  {
   "cell_type": "code",
   "execution_count": 42,
   "metadata": {},
   "outputs": [],
   "source": [
    "from matplotlib.widgets import Slider  # import the Slider widget\n",
    "\n",
    "import numpy as np\n",
    "import matplotlib.pyplot as plt\n",
    "from math import pi\n",
    "from matplotlib.patches import Rectangle, Arrow, FancyArrow\n",
    "\n",
    "\n",
    "# N_steps = len(p2_data)\n",
    "# a_min = 1    # the minimial value of the paramater a\n",
    "# a_max = N_steps-1   # the maximal value of the paramater a\n",
    "# a_init = 1   # the value of the parameter a to be used initially, when the graph is created\n",
    "\n",
    "# t = np.linspace(1, N_steps-1, N_steps-1)\n",
    "\n",
    "\n",
    "def f_p1(t, a, p1_data):\n",
    "    t_partial = t[int(a)-1:int(a)+1]\n",
    "#     print('t_input', t)\n",
    "    return [p1_data[int(j)]['position'][0] for j in t_partial], [p1_data[int(j)]['position'][1] for j in t_partial]\n",
    "def f_p2(t, a, p2_data):\n",
    "    t_partial = t[int(a)-1:int(a)+1]\n",
    "    return [p2_data[int(j)]['position'][0] for j in t_partial], [p2_data[int(j)]['position'][1] for j in t_partial]\n",
    "\n",
    "\n",
    "\n",
    "def arrow_p1(t, a, p1_data):\n",
    "#     t_partial = t[int(a)-1:int(a)+1]\n",
    "#     print('t_input', t)\n",
    "    return p1_data[int(a)]['position'][0], p1_data[int(a)]['position'][1],\\\n",
    "            p1_data[int(a)]['orientation'][0], p1_data[int(a)]['orientation'][1]\n",
    "def arrow_p2(t, a, p2_data):\n",
    "    return p2_data[int(a)]['position'][0], p2_data[int(a)]['position'][1],\\\n",
    "            p2_data[int(a)]['orientation'][0], p2_data[int(a)]['orientation'][1]\n",
    "\n",
    "\n",
    "def held_p1(t, a, p1_data):\n",
    "    return p1_data[int(a)]['position'][0], p1_data[int(a)]['position'][1],\\\n",
    "            p1_data[int(a)]['orientation'][0], p1_data[int(a)]['orientation'][1]\n",
    "def held_p2(t, a, p2_data):\n",
    "    return p2_data[int(a)]['position'][0], p2_data[int(a)]['position'][1],\\\n",
    "            p2_data[int(a)]['orientation'][0], p2_data[int(a)]['orientation'][1]\n",
    "\n",
    "\n",
    "def world_obj(t, a, objects_data):\n",
    "    obj_world = objects_data[int(a)]\n",
    "    if len(obj_world)==0:\n",
    "        return []\n",
    "    objects_list = []\n",
    "    for i in range(len(obj_world)):\n",
    "        obj = obj_world[i]\n",
    "        name = obj_world[i]['name']\n",
    "        obj_state = obj_world[i]['state']\n",
    "        position = obj_world[i]['position']\n",
    "        if name == 'onion':\n",
    "            color = 'y'\n",
    "            objects_list.append((position[0], position[1], color))\n",
    "        if name == 'dish':\n",
    "            color = 'k'\n",
    "            objects_list.append((position[0], position[1], color))\n",
    "        if name == 'soup':\n",
    "            if obj_state[1] == 3 and obj_state[2] < 20:\n",
    "#             if obj['is_cooking'] is True:\n",
    "                color = 'r'\n",
    "            elif obj_state[1] == 3 and obj_state[2] == 20:\n",
    "#             elif obj['is_ready'] is True:\n",
    "                color = 'g'\n",
    "            else:\n",
    "                color = 'orange'\n",
    "            objects_list.append((position[0], position[1], color))\n",
    "        \n",
    "    return objects_list\n",
    "\n",
    "\n",
    "def obj_p1(t, a, p1_data):\n",
    "#     t_partial = t[int(a)-1:int(a)+1]\n",
    "#     print('t_input', t)\n",
    "    color = 'k'\n",
    "    if p1_data[int(a)]['held_object'] is None:\n",
    "        return [None, None, None, None]\n",
    "    else:\n",
    "        name = p1_data[int(a)]['held_object']['name']\n",
    "        if name == 'dish':\n",
    "            color = 'k'\n",
    "        elif name == 'onion':\n",
    "            color = 'y'\n",
    "    return p1_data[int(a)]['position'][0], p1_data[int(a)]['position'][1], p1_data[int(a)]['held_object']['name'], color\n",
    "\n",
    "def obj_p2(t, a, p2_data):\n",
    "    color = 'k'\n",
    "    if p2_data[int(a)]['held_object'] is None:\n",
    "        return [None, None, None, None]\n",
    "    else:\n",
    "        name = p2_data[int(a)]['held_object']['name']\n",
    "        if name == 'dish':\n",
    "            color = 'k'\n",
    "        elif name == 'onion':\n",
    "            color = 'y'\n",
    "    return p2_data[int(a)]['position'][0], p2_data[int(a)]['position'][1], p2_data[int(a)]['held_object']['name'], color\n",
    "\n",
    "\n",
    "# [{'name': 'soup',\n",
    "#    'position': [4, 1],\n",
    "#    '_ingredients': [{'name': 'onion', 'position': [4, 1]},\n",
    "#     {'name': 'onion', 'position': [4, 1]}],\n",
    "#    'cooking_tick': -1,\n",
    "#    'is_cooking': False,\n",
    "#    'is_ready': False,\n",
    "#    'is_idle': True,\n",
    "#    'cook_time': -1,\n",
    "#    '_cooking_tick': -1}],\n",
    "\n"
   ]
  },
  {
   "cell_type": "code",
   "execution_count": 43,
   "metadata": {},
   "outputs": [],
   "source": [
    "\n",
    "def plot_trial(trial_id, p1_data, p2_data, objects_data, name, title):\n",
    "        \n",
    "    N_steps = len(p1_data)\n",
    "    a_min = 1    # the minimial value of the paramater a\n",
    "    a_max = N_steps-1   # the maximal value of the paramater a\n",
    "    a_init = 1   # the value of the parameter a to be used initially, when the graph is created\n",
    "\n",
    "    t = np.linspace(0, N_steps-1, N_steps)\n",
    "    \n",
    "    old_trials = import_2019_data()\n",
    "    layout = eval(old_trials[old_trials['layout_name']==name]['layout'].to_numpy()[0])\n",
    "    layout = np.array([list(elem) for elem in layout])\n",
    "    grid_display = np.zeros((layout.shape[0], layout.shape[1], 3))\n",
    "    for i in range(layout.shape[0]):\n",
    "        for j in range(layout.shape[1]):\n",
    "            # Floor = gray\n",
    "            grid_display[i,j,:] = [220,220,220]\n",
    "            if layout[i,j] == 'X':\n",
    "                # Counter = Tan\n",
    "                grid_display[i,j,:] = [91,153,91]\n",
    "            if layout[i,j] == 'P':\n",
    "                # Pots = brown\n",
    "                grid_display[i,j,:] = [139,69,19]\n",
    "            if layout[i,j] == 'S':\n",
    "                # Serve = Green\n",
    "                grid_display[i,j,:] = [34,139,34]\n",
    "            if layout[i,j] == 'O':\n",
    "                # Onion = Yellow\n",
    "                grid_display[i,j,:] = [218,165,32]\n",
    "            if layout[i,j] == 'D':\n",
    "                # Dishes = Blue\n",
    "                grid_display[i,j,:] = [65,105,225]\n",
    "            if layout[i,j] == 'T':\n",
    "                # Tomato = Blue\n",
    "                grid_display[i,j,:] = [255,69,0]\n",
    "\n",
    "\n",
    "    # loop over your images\n",
    "    for a in range(len(t)):\n",
    "\n",
    "        fig = plt.figure(figsize=(8,3))\n",
    "\n",
    "        sin_ax = plt.axes([0.1, 0.2, 0.8, 0.65])\n",
    "\n",
    "        plt.axes(sin_ax) # select sin_ax\n",
    "\n",
    "        plt.imshow(grid_display.astype(np.uint8), vmin=0, vmax=255)\n",
    "\n",
    "\n",
    "        scat1 = plt.scatter(f_p1(t, a, p1_data)[0], f_p1(t, a, p1_data)[1], lw=20, c='r')\n",
    "        line1, = plt.plot(f_p1(t, a, p1_data)[0], f_p1(t, a, p1_data)[1], lw=5, c='r')\n",
    "\n",
    "        arrow1 = plt.arrow(arrow_p1(t, a, p1_data)[0], arrow_p1(t, a, p1_data)[1], \n",
    "                           arrow_p1(t, a, p1_data)[2], arrow_p1(t, a, p1_data)[3], head_width=0.5,\n",
    "                           head_length=0.5, width=0.02, fc='r', ec='r', length_includes_head=True)\n",
    "\n",
    "        if obj_p1(t, a, p1_data)[0] is not None:\n",
    "            arrow_obj1 = plt.scatter(obj_p1(t, a, p1_data)[0], obj_p1(t, a, p1_data)[1], \n",
    "                                     lw=10, c=obj_p1(t, a, p1_data)[3])\n",
    "\n",
    "\n",
    "        scat2 = plt.scatter(f_p2(t, a, p2_data)[0], f_p2(t, a, p2_data)[1], lw=20, c='b')\n",
    "        line2, = plt.plot(f_p2(t, a, p2_data)[0], f_p2(t, a, p2_data)[1], lw=5, c='b')\n",
    "\n",
    "        arrow2 = plt.arrow(arrow_p2(t, a, p2_data)[0], arrow_p2(t, a, p2_data)[1], \n",
    "                           arrow_p2(t, a, p2_data)[2], arrow_p2(t, a, p2_data)[3], head_width=0.5,\n",
    "                           head_length=0.5, width=0.02, fc='b', ec='b', length_includes_head=True)\n",
    "\n",
    "        if obj_p2(t, a, p2_data)[0] is not None:\n",
    "            arrow_obj2 = plt.scatter(obj_p2(t, a, p2_data)[0], obj_p2(t, a, p2_data)[1], \n",
    "                                     lw=10, c=obj_p2(t, a, p2_data)[3])\n",
    "\n",
    "        objects_list = world_obj(t, a, objects_data)\n",
    "        for obj in objects_list:\n",
    "            obj_add = plt.scatter(obj[0], obj[1], \n",
    "                                     lw=10, c=obj[2])\n",
    "\n",
    "        trial_name = name + '_'+str(trial_id)\n",
    "        if not os.path.exists(trial_name):\n",
    "            os.makedirs(trial_name)\n",
    "\n",
    "        plt.savefig(trial_name+'/im_'+str(a)+'.png')\n",
    "        plt.close()\n"
   ]
  },
  {
   "cell_type": "markdown",
   "metadata": {},
   "source": [
    "# Attempt to Plot"
   ]
  },
  {
   "cell_type": "code",
   "execution_count": 60,
   "metadata": {},
   "outputs": [
    {
     "name": "stdout",
     "output_type": "stream",
     "text": [
      "1\n",
      "15\n",
      "25\n",
      "26\n",
      "35\n",
      "40\n",
      "41\n",
      "49\n",
      "61\n",
      "70\n",
      "74\n",
      "77\n",
      "88\n"
     ]
    }
   ],
   "source": [
    "for ep_no in range(len(ep_returns)):\n",
    "    if ep_returns[ep_no] > 60:\n",
    "        print(ep_no)"
   ]
  },
  {
   "cell_type": "code",
   "execution_count": 61,
   "metadata": {},
   "outputs": [
    {
     "name": "stdout",
     "output_type": "stream",
     "text": [
      "REWARD:  80.0\n"
     ]
    }
   ],
   "source": [
    "episode_num = 88\n",
    "timestep_t = 0\n",
    "state_data = []\n",
    "print('REWARD: ', ep_returns[episode_num])\n",
    "for timestep_t in range(len(ep_observations[episode_num])):\n",
    "\n",
    "# for timestep_t in range(100):\n",
    "    state_data.append(ep_observations[episode_num][timestep_t].to_dict())\n",
    "#     print('players', ep_observations[episode_num][timestep_t].players)\n",
    "#     print('observations', ep_observations[episode_num][timestep_t].objects)\n",
    "#     print('order list', ep_observations[episode_num][timestep_t].order_list)\n",
    "\n",
    "# self.players = tuple(players)\n",
    "# self.objects = objects\n",
    "# self.order_list = order_list\n",
    "\n"
   ]
  },
  {
   "cell_type": "code",
   "execution_count": 62,
   "metadata": {},
   "outputs": [],
   "source": [
    "import matplotlib.pyplot as plt\n",
    "import matplotlib.cm as cm\n",
    "import cv2\n",
    "import os\n",
    "\n",
    "# Use Agg backend for canvas\n",
    "from matplotlib.backends.backend_agg import FigureCanvasAgg as FigureCanvas\n",
    "\n",
    "def plot_rollout(episode_num):\n",
    "    old_trials = import_2019_data()\n",
    "    layout_trials = old_trials[old_trials['layout_name']=='random0']['trial_id'].unique()\n",
    "    name = 'random0'\n",
    "    title = 'Forced Coordination'\n",
    "\n",
    "    \n",
    "    trial_id = episode_num\n",
    "    timestep_t = 0\n",
    "    state_data = []\n",
    "    print('REWARD: ', ep_returns[episode_num])\n",
    "    for timestep_t in range(len(ep_observations[episode_num])):\n",
    "\n",
    "        state_data.append(ep_observations[episode_num][timestep_t].to_dict())\n",
    "    \n",
    "    p1_data = []\n",
    "    p2_data = []\n",
    "    objects_data = []\n",
    "    state_data_eval = []\n",
    "    for i in range(1, len(state_data)):\n",
    "    #     prev_state_x = json_eval(state_data[i-1])\n",
    "    #     state_x = json_eval(state_data[i])\n",
    "        prev_state_x = state_data[i-1]\n",
    "        state_x = state_data[i]\n",
    "        p1_data.append(state_x['players'][0])\n",
    "        p2_data.append(state_x['players'][1])\n",
    "        state_data_eval.append(state_x)\n",
    "        objects_data.append(state_x['objects'])\n",
    "    plot_trial(trial_id, p1_data, p2_data, objects_data, name, title)\n"
   ]
  },
  {
   "cell_type": "code",
   "execution_count": 63,
   "metadata": {},
   "outputs": [
    {
     "name": "stdout",
     "output_type": "stream",
     "text": [
      "REWARD:  80.0\n"
     ]
    }
   ],
   "source": [
    "episode_num = 88\n",
    "plot_rollout(episode_num)\n"
   ]
  },
  {
   "cell_type": "code",
   "execution_count": 64,
   "metadata": {},
   "outputs": [
    {
     "data": {
      "text/plain": [
       "23.2"
      ]
     },
     "execution_count": 64,
     "metadata": {},
     "output_type": "execute_result"
    }
   ],
   "source": [
    "np.mean([24.0, 26.5, 20.5, 31.5, 13.5])"
   ]
  },
  {
   "cell_type": "code",
   "execution_count": 65,
   "metadata": {},
   "outputs": [
    {
     "data": {
      "text/plain": [
       "37.9"
      ]
     },
     "execution_count": 65,
     "metadata": {},
     "output_type": "execute_result"
    }
   ],
   "source": [
    "np.mean([38.0, 42.0, 35.5, 63.0, 11.0])"
   ]
  },
  {
   "cell_type": "code",
   "execution_count": null,
   "metadata": {},
   "outputs": [],
   "source": []
  }
 ],
 "metadata": {
  "kernelspec": {
   "display_name": "harl",
   "language": "python",
   "name": "harl"
  },
  "language_info": {
   "codemirror_mode": {
    "name": "ipython",
    "version": 3
   },
   "file_extension": ".py",
   "mimetype": "text/x-python",
   "name": "python",
   "nbconvert_exporter": "python",
   "pygments_lexer": "ipython3",
   "version": "3.7.10"
  }
 },
 "nbformat": 4,
 "nbformat_minor": 2
}
