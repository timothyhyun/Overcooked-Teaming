{
 "cells": [
  {
   "cell_type": "code",
   "execution_count": 2,
   "metadata": {},
   "outputs": [],
   "source": [
    "# %matplotlib inline\n",
    "# %matplotlib notebook\n",
    "import tqdm, copy\n",
    "import random, os\n",
    "import pandas as pd\n",
    "from tqdm import trange\n",
    "import matplotlib.pyplot as plt\n",
    "from collections import defaultdict\n",
    "from overcooked_ai_py.utils import save_pickle\n",
    "from human_aware_rl.utils import set_global_seed\n",
    "from human_aware_rl.human.process_dataframes import *\n",
    "# from human_aware_rl.static import *\n",
    "import pickle as pkl\n",
    "\n",
    "set_global_seed(1884)\n",
    "import ast\n",
    "import json\n",
    "\n",
    "from scipy import stats\n",
    "\n",
    "import matplotlib.pyplot as plt\n",
    "import matplotlib.cm as cm\n",
    "import cv2\n",
    "import os\n",
    "from ast import literal_eval\n",
    "from matplotlib.backends.backend_agg import FigureCanvasAgg as FigureCanvas\n"
   ]
  },
  {
   "cell_type": "markdown",
   "metadata": {},
   "source": [
    "# Helper Functions"
   ]
  },
  {
   "cell_type": "code",
   "execution_count": 4,
   "metadata": {},
   "outputs": [],
   "source": [
    "\n",
    "def f_p1(t, a, p1_data):\n",
    "    t_partial = t[int(a)-1:int(a)]\n",
    "#     print('t_input', t)\n",
    "    return [p1_data[int(j)]['position'][0] for j in t_partial], [p1_data[int(j)]['position'][1] for j in t_partial]\n",
    "def f_p2(t, a, p2_data):\n",
    "    t_partial = t[int(a)-1:int(a)]\n",
    "    return [p2_data[int(j)]['position'][0] for j in t_partial], [p2_data[int(j)]['position'][1] for j in t_partial]\n",
    "\n",
    "\n",
    "\n",
    "def arrow_p1(t, a, p1_data):\n",
    "#     t_partial = t[int(a)-1:int(a)+1]\n",
    "#     print('t_input', t)\n",
    "    return p1_data[int(a)]['position'][0], p1_data[int(a)]['position'][1],\\\n",
    "            p1_data[int(a)]['orientation'][0], p1_data[int(a)]['orientation'][1]\n",
    "def arrow_p2(t, a, p2_data):\n",
    "    return p2_data[int(a)]['position'][0], p2_data[int(a)]['position'][1],\\\n",
    "            p2_data[int(a)]['orientation'][0], p2_data[int(a)]['orientation'][1]\n",
    "\n",
    "\n",
    "def held_p1(t, a, p1_data):\n",
    "    return p1_data[int(a)]['position'][0], p1_data[int(a)]['position'][1],\\\n",
    "            p1_data[int(a)]['orientation'][0], p1_data[int(a)]['orientation'][1]\n",
    "def held_p2(t, a, p2_data):\n",
    "    return p2_data[int(a)]['position'][0], p2_data[int(a)]['position'][1],\\\n",
    "            p2_data[int(a)]['orientation'][0], p2_data[int(a)]['orientation'][1]\n",
    "\n",
    "\n",
    "def world_obj(t, a, objects_data):\n",
    "    obj_world = objects_data[int(a)]\n",
    "    if len(obj_world)==0:\n",
    "        return []\n",
    "    objects_list = []\n",
    "    for i in range(len(obj_world)):\n",
    "        obj = obj_world[i]\n",
    "        name = obj_world[i]['name']\n",
    "        position = obj_world[i]['position']\n",
    "        if name == 'onion':\n",
    "            color = 'y'\n",
    "            objects_list.append((position[0], position[1], name, color))\n",
    "        if name == 'dish':\n",
    "            color = 'k'\n",
    "            objects_list.append((position[0], position[1], name, color))\n",
    "        if name == 'soup':\n",
    "            if obj['is_cooking'] is True:\n",
    "                color = 'r'\n",
    "            elif obj['is_ready'] is True:\n",
    "                color = 'g'\n",
    "            else:\n",
    "                color = 'orange'\n",
    "            objects_list.append((position[0], position[1], name, color))\n",
    "        \n",
    "    return objects_list\n",
    "\n",
    "\n",
    "def obj_p1(t, a, p1_data):\n",
    "#     t_partial = t[int(a)-1:int(a)+1]\n",
    "#     print('t_input', t)\n",
    "    color = 'k'\n",
    "    if p1_data[int(a)]['held_object'] is None:\n",
    "        return [None, None, None, None]\n",
    "    else:\n",
    "        name = p1_data[int(a)]['held_object']['name']\n",
    "        if name == 'dish':\n",
    "            color = 'k'\n",
    "        elif name == 'onion':\n",
    "            color = 'y'\n",
    "#         elif name == 'onion':\n",
    "#             color = 'y'\n",
    "    return p1_data[int(a)]['position'][0], p1_data[int(a)]['position'][1], p1_data[int(a)]['held_object']['name'], color\n",
    "\n",
    "def obj_p2(t, a, p2_data):\n",
    "    color = 'k'\n",
    "    if p2_data[int(a)]['held_object'] is None:\n",
    "        return [None, None, None, None]\n",
    "    else:\n",
    "        name = p2_data[int(a)]['held_object']['name']\n",
    "        if name == 'dish':\n",
    "            color = 'k'\n",
    "        elif name == 'onion':\n",
    "            color = 'y'\n",
    "    return p2_data[int(a)]['position'][0], p2_data[int(a)]['position'][1], p2_data[int(a)]['held_object']['name'], color\n",
    "\n",
    "\n",
    "# [{'name': 'soup',\n",
    "#    'position': [4, 1],\n",
    "#    '_ingredients': [{'name': 'onion', 'position': [4, 1]},\n",
    "#     {'name': 'onion', 'position': [4, 1]}],\n",
    "#    'cooking_tick': -1,\n",
    "#    'is_cooking': False,\n",
    "#    'is_ready': False,\n",
    "#    'is_idle': True,\n",
    "#    'cook_time': -1,\n",
    "#    '_cooking_tick': -1}],\n",
    "\n",
    "NORTH = (0, -1)\n",
    "SOUTH = (0, 1)\n",
    "EAST  = (1, 0)\n",
    "WEST  = (-1, 0)\n",
    "STAY = (0,0)\n",
    "INTERACT = 'INTERACT'\n",
    "# STAY = [0,0]\n",
    "\n",
    "def action_p1(t, a, p1_data):\n",
    "    if p1_data[int(a)] == 'INTERACT':\n",
    "        act = 'I'\n",
    "    else:\n",
    "        x, y = p1_data[int(a)][0], p1_data[int(a)][1]\n",
    "        act = 'N'\n",
    "        if (x,y) == NORTH:\n",
    "            act = 'N'\n",
    "        if (x,y) == SOUTH:\n",
    "            act = 'S'\n",
    "        if (x,y) == EAST:\n",
    "            act = 'E'\n",
    "        if (x,y) == WEST:\n",
    "            act = 'W'\n",
    "        if (x,y) == STAY:\n",
    "            act = 'Y'\n",
    "        \n",
    "    return act\n",
    "\n",
    "def action_p2(t, a, p2_data):\n",
    "    if p2_data[int(a)] == 'INTERACT':\n",
    "        act = 'I'\n",
    "    else:\n",
    "        x, y = p2_data[int(a)][0], p2_data[int(a)][1]\n",
    "        act = 'N'\n",
    "        if (x,y) == NORTH:\n",
    "            act = 'N'\n",
    "        if (x,y) == SOUTH:\n",
    "            act = 'S'\n",
    "        if (x,y) == EAST:\n",
    "            act = 'E'\n",
    "        if (x,y) == WEST:\n",
    "            act = 'W'\n",
    "        if (x,y) == STAY:\n",
    "            act = 'Y'\n",
    "        \n",
    "    return act\n",
    "\n",
    "\n",
    "\n"
   ]
  },
  {
   "cell_type": "code",
   "execution_count": 5,
   "metadata": {},
   "outputs": [],
   "source": [
    "def json_eval(s):\n",
    "    json_acceptable_string = s.replace(\"'\", \"\\\"\")\n",
    "    d = json.loads(json_acceptable_string)\n",
    "    return d"
   ]
  },
  {
   "cell_type": "code",
   "execution_count": 9,
   "metadata": {},
   "outputs": [],
   "source": [
    "def import_2019_data():\n",
    "    import pickle as pkl\n",
    "    hh_all_2019_file = '/Users/michellezhao/Documents/overcooked_research/human_aware_rl/human_aware_rl/static/human_data/cleaned/2019_hh_trials_all.pickle'\n",
    "\n",
    "    with open(hh_all_2019_file,'rb') as file:\n",
    "        humans_2019_file = pkl.load(file)\n",
    "\n",
    "    humans_2019_file.to_csv('humans_all_2019.csv')\n",
    "    old_trials = humans_2019_file\n",
    "    return old_trials\n",
    "\n",
    "def import_2020_data():\n",
    "    import pickle as pkl\n",
    "    hh_all_2020_file = '/Users/michellezhao/Documents/overcooked_research/human_aware_rl/human_aware_rl/static/human_data/cleaned/2020_hh_trials_all.pickle'\n",
    "\n",
    "    with open(hh_all_2020_file,'rb') as file:\n",
    "        humans_2020_file = pkl.load(file)\n",
    "\n",
    "    humans_2020_file.to_csv('humans_all_2020.csv')\n",
    "    new_trials = humans_2020_file\n",
    "    return new_trials\n",
    "\n",
    "\n",
    "\n",
    "\n"
   ]
  },
  {
   "cell_type": "code",
   "execution_count": 10,
   "metadata": {},
   "outputs": [],
   "source": [
    "def import_cleaned_data(filename):\n",
    "    \n",
    "\n",
    "    with open(filename,'rb') as file:\n",
    "        data = pkl.load(file)\n",
    "\n",
    "    return data\n",
    "\n",
    "\n"
   ]
  },
  {
   "cell_type": "code",
   "execution_count": 53,
   "metadata": {},
   "outputs": [],
   "source": [
    "def get_cleaned_fc_data_train():\n",
    "    filename = '../data/human/anonymized/clean_train_trials.pkl'\n",
    "    clean_data = import_cleaned_data(filename)\n",
    "    fc_data = clean_data[clean_data['layout_name']=='random0']\n",
    "    print(fc_data.groupby(['run','workerid_num', 'reward_norm_total']).size().reset_index().rename(columns={0:'count'}))\n",
    "    return fc_data\n",
    "\n",
    "def get_cleaned_fc_data_test():\n",
    "    filename = '../data/human/anonymized/clean_test_trials.pkl'\n",
    "    clean_data = import_cleaned_data(filename)\n",
    "    fc_data = clean_data[clean_data['layout_name']=='random0']\n",
    "    print(fc_data.groupby(['run','workerid_num', 'reward_norm_total']).size().reset_index().rename(columns={0:'count'}))\n",
    "    return fc_data\n",
    "\n",
    "\n",
    "    \n",
    "    \n",
    "    \n",
    "    \n",
    "    \n",
    "    \n",
    "    \n",
    "    "
   ]
  },
  {
   "cell_type": "markdown",
   "metadata": {},
   "source": [
    "# Make Comparison"
   ]
  },
  {
   "cell_type": "code",
   "execution_count": 11,
   "metadata": {},
   "outputs": [],
   "source": [
    "old_trials = import_2019_data()"
   ]
  },
  {
   "cell_type": "code",
   "execution_count": 12,
   "metadata": {},
   "outputs": [],
   "source": [
    "\n",
    "name = 'random0'\n",
    "title = 'Forced Coord'\n",
    "\n",
    "# name = 'random0'\n",
    "# title = 'Forced Coordination'\n",
    "old_trials = import_2019_data()\n",
    "layout_trials = old_trials[old_trials['layout_name']==name]['trial_id'].unique()"
   ]
  },
  {
   "cell_type": "code",
   "execution_count": 14,
   "metadata": {},
   "outputs": [
    {
     "data": {
      "text/plain": [
       "Index(['Unnamed: 0', 'cur_gameloop', 'joint_action', 'layout', 'layout_name',\n",
       "       'reward', 'score', 'state', 'time_elapsed', 'time_left', 'trial_id',\n",
       "       'player_0_is_human', 'player_1_is_human', 'player_0_id', 'player_1_id',\n",
       "       'cur_gameloop_total', 'score_total', 'button_press',\n",
       "       'button_press_total', 'timesteps_since_interact',\n",
       "       'button_presses_per_timstep'],\n",
       "      dtype='object')"
      ]
     },
     "execution_count": 14,
     "metadata": {},
     "output_type": "execute_result"
    }
   ],
   "source": [
    "old_trials.columns"
   ]
  },
  {
   "cell_type": "code",
   "execution_count": 13,
   "metadata": {},
   "outputs": [
    {
     "data": {
      "text/plain": [
       "array([  9,  14,  19,  24,  54,  59,  64,  69,  79,  89,  99, 114])"
      ]
     },
     "execution_count": 13,
     "metadata": {},
     "output_type": "execute_result"
    }
   ],
   "source": [
    "layout_trials"
   ]
  },
  {
   "cell_type": "code",
   "execution_count": 36,
   "metadata": {},
   "outputs": [],
   "source": [
    "old_trials_team_states = old_trials[old_trials['trial_id']==9]['state'].to_numpy()"
   ]
  },
  {
   "cell_type": "code",
   "execution_count": 38,
   "metadata": {},
   "outputs": [
    {
     "name": "stdout",
     "output_type": "stream",
     "text": [
      "     run  workerid_num  reward_norm_total  count\n",
      "0  run-1             2              480.0   1204\n",
      "1  run-1             4              280.0   1204\n",
      "2  run-2            15              260.0   1199\n",
      "3  run-2            17              300.0   1204\n",
      "4  run-2            19              400.0   1204\n",
      "5  run-2            22              300.0   1136\n"
     ]
    }
   ],
   "source": [
    "fc_data = get_cleaned_fc_data()\n",
    "states_for_player = fc_data[fc_data['workerid_num']==4]['state'].to_numpy()"
   ]
  },
  {
   "cell_type": "code",
   "execution_count": 46,
   "metadata": {},
   "outputs": [
    {
     "data": {
      "text/plain": [
       "{'players': [{'position': [3, 1], 'orientation': [0, -1]},\n",
       "  {'position': [1, 2], 'orientation': [0, -1]}],\n",
       " 'objects': {},\n",
       " 'order_list': ['onion'],\n",
       " 'pot_explosion': False}"
      ]
     },
     "execution_count": 46,
     "metadata": {},
     "output_type": "execute_result"
    }
   ],
   "source": [
    "eval(states_for_player[0])"
   ]
  },
  {
   "cell_type": "code",
   "execution_count": 37,
   "metadata": {},
   "outputs": [
    {
     "data": {
      "text/plain": [
       "'{\"players\": [{\"position\": [3, 1], \"orientation\": [0, -1], \"held_object\": null}, {\"position\": [1, 2], \"orientation\": [0, -1], \"held_object\": null}], \"objects\": [], \"bonus_orders\": [], \"all_orders\": [{\"ingredients\": [\"onion\"]}, {\"ingredients\": [\"onion\", \"onion\"]}, {\"ingredients\": [\"onion\", \"onion\", \"onion\"]}, {\"ingredients\": [\"tomato\"]}, {\"ingredients\": [\"tomato\", \"tomato\"]}, {\"ingredients\": [\"tomato\", \"tomato\", \"tomato\"]}, {\"ingredients\": [\"onion\", \"tomato\"]}, {\"ingredients\": [\"onion\", \"onion\", \"tomato\"]}, {\"ingredients\": [\"onion\", \"tomato\", \"tomato\"]}], \"timestep\": 0}'"
      ]
     },
     "execution_count": 37,
     "metadata": {},
     "output_type": "execute_result"
    }
   ],
   "source": [
    "old_trials_team_states[0]"
   ]
  },
  {
   "cell_type": "code",
   "execution_count": 50,
   "metadata": {},
   "outputs": [],
   "source": [
    "# def check_clean_against_old(clean_player_data, old_team_data):\n",
    "# states_for_player\n",
    "# old_trials_team_states\n",
    "\n",
    "def get_team_for_clean_worker(states_for_player):\n",
    "    trial_num_results = {}\n",
    "    for trial_num in layout_trials:\n",
    "\n",
    "        old_trials_team_states = old_trials[old_trials['trial_id']==trial_num]['state'].to_numpy()\n",
    "\n",
    "        is_team = True\n",
    "\n",
    "        if len(states_for_player) != len(old_trials_team_states):\n",
    "            is_team = False\n",
    "        else:\n",
    "            for i in range(len(states_for_player)):\n",
    "                player_state = eval(states_for_player[i])\n",
    "                team_state = json_eval(old_trials_team_states[i])\n",
    "\n",
    "\n",
    "                ps_p1_pos = player_state['players'][0]['position']\n",
    "                ps_p1_or = player_state['players'][0]['orientation']\n",
    "\n",
    "                ps_p2_pos = player_state['players'][1]['position']\n",
    "                ps_p2_or = player_state['players'][1]['orientation']\n",
    "\n",
    "                ts_p1_pos = team_state['players'][0]['position']\n",
    "                ts_p1_or = team_state['players'][0]['orientation']\n",
    "\n",
    "                ts_p2_pos = team_state['players'][1]['position']\n",
    "                ts_p2_or = team_state['players'][1]['orientation']\n",
    "\n",
    "                if ps_p1_pos == ts_p1_pos and ps_p1_or == ts_p1_or:\n",
    "                    if ps_p2_pos == ts_p2_pos and ps_p2_or == ts_p2_or:\n",
    "        #                 is_team = True\n",
    "                        good = 1\n",
    "                    else:\n",
    "                        is_team = False\n",
    "                else:\n",
    "                    is_team = False\n",
    "\n",
    "\n",
    "        trial_num_results[trial_num] = is_team\n",
    "\n",
    "    for trial_num in layout_trials:\n",
    "        if trial_num_results[trial_num] == True:\n",
    "            return trial_num\n",
    "    return None\n"
   ]
  },
  {
   "cell_type": "code",
   "execution_count": 49,
   "metadata": {},
   "outputs": [
    {
     "data": {
      "text/plain": [
       "{9: False,\n",
       " 14: False,\n",
       " 19: False,\n",
       " 24: True,\n",
       " 54: False,\n",
       " 59: False,\n",
       " 64: False,\n",
       " 69: False,\n",
       " 79: False,\n",
       " 89: False,\n",
       " 99: False,\n",
       " 114: False}"
      ]
     },
     "execution_count": 49,
     "metadata": {},
     "output_type": "execute_result"
    }
   ],
   "source": [
    "trial_num_results"
   ]
  },
  {
   "cell_type": "code",
   "execution_count": 54,
   "metadata": {},
   "outputs": [
    {
     "name": "stdout",
     "output_type": "stream",
     "text": [
      "     run  workerid_num  reward_norm_total  count\n",
      "0  run-1             2              480.0   1204\n",
      "1  run-1             4              280.0   1204\n",
      "2  run-2            15              260.0   1199\n",
      "3  run-2            17              300.0   1204\n",
      "4  run-2            19              400.0   1204\n",
      "5  run-2            22              300.0   1136\n"
     ]
    }
   ],
   "source": [
    "fc_data = get_cleaned_fc_data_train()\n",
    "unique_workerids = fc_data['workerid_num'].unique()\n",
    "worker_id_to_team_num = {}\n",
    "for w_id in unique_workerids:\n",
    "    states_for_player = fc_data[fc_data['workerid_num']==w_id]['state'].to_numpy()\n",
    "    team_num = get_team_for_clean_worker(states_for_player)\n",
    "    worker_id_to_team_num[w_id] = team_num\n",
    "    "
   ]
  },
  {
   "cell_type": "code",
   "execution_count": 55,
   "metadata": {},
   "outputs": [
    {
     "data": {
      "text/plain": [
       "{2: 14, 4: 24, 15: 79, 17: 89, 19: 99, 22: 114}"
      ]
     },
     "execution_count": 55,
     "metadata": {},
     "output_type": "execute_result"
    }
   ],
   "source": [
    "worker_id_to_team_num"
   ]
  },
  {
   "cell_type": "code",
   "execution_count": 56,
   "metadata": {},
   "outputs": [
    {
     "name": "stdout",
     "output_type": "stream",
     "text": [
      "     run  workerid_num  reward_norm_total  count\n",
      "0  run-1             1              380.0   1204\n",
      "1  run-1             3              360.0   1204\n",
      "2  run-2            10              440.0   1204\n",
      "3  run-2            11              400.0   1204\n",
      "4  run-2            12              160.0   1204\n",
      "5  run-2            13              300.0   1204\n"
     ]
    }
   ],
   "source": [
    "fc_data = get_cleaned_fc_data_test()\n",
    "unique_workerids = fc_data['workerid_num'].unique()\n",
    "worker_id_to_team_num = {}\n",
    "for w_id in unique_workerids:\n",
    "    states_for_player = fc_data[fc_data['workerid_num']==w_id]['state'].to_numpy()\n",
    "    team_num = get_team_for_clean_worker(states_for_player)\n",
    "    worker_id_to_team_num[w_id] = team_num\n",
    "    "
   ]
  },
  {
   "cell_type": "code",
   "execution_count": 57,
   "metadata": {},
   "outputs": [
    {
     "data": {
      "text/plain": [
       "{1: 9, 3: 19, 10: 54, 11: 59, 12: 64, 13: 69}"
      ]
     },
     "execution_count": 57,
     "metadata": {},
     "output_type": "execute_result"
    }
   ],
   "source": [
    "worker_id_to_team_num"
   ]
  },
  {
   "cell_type": "code",
   "execution_count": null,
   "metadata": {},
   "outputs": [],
   "source": []
  }
 ],
 "metadata": {
  "kernelspec": {
   "display_name": "harl",
   "language": "python",
   "name": "harl"
  },
  "language_info": {
   "codemirror_mode": {
    "name": "ipython",
    "version": 3
   },
   "file_extension": ".py",
   "mimetype": "text/x-python",
   "name": "python",
   "nbconvert_exporter": "python",
   "pygments_lexer": "ipython3",
   "version": "3.7.10"
  }
 },
 "nbformat": 4,
 "nbformat_minor": 2
}
